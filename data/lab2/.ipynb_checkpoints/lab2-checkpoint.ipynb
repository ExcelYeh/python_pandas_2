{
 "cells": [
  {
   "cell_type": "code",
   "execution_count": 2,
   "metadata": {},
   "outputs": [],
   "source": [
    "import pandas as pd\n",
    "import os"
   ]
  },
  {
   "cell_type": "code",
   "execution_count": 50,
   "metadata": {},
   "outputs": [],
   "source": [
    "csv_path = os.getcwd()+'/data/'"
   ]
  },
  {
   "cell_type": "code",
   "execution_count": 22,
   "metadata": {},
   "outputs": [],
   "source": [
    "path_file_list =  os.listdir(csv_path)\n",
    "csv_file_list = []"
   ]
  },
  {
   "cell_type": "code",
   "execution_count": 20,
   "metadata": {},
   "outputs": [],
   "source": [
    "path_file_list =['test']+path_file_list"
   ]
  },
  {
   "cell_type": "code",
   "execution_count": 51,
   "metadata": {},
   "outputs": [],
   "source": [
    "for files in path_file_list:\n",
    "    file_path = os.path.join(csv_path, files)\n",
    "    csv_file_list.append(file_path)"
   ]
  },
  {
   "cell_type": "code",
   "execution_count": 52,
   "metadata": {
    "scrolled": true
   },
   "outputs": [
    {
     "data": {
      "text/plain": [
       "['/home/excel/python_program/data/lab2/data/600519.csv',\n",
       " '/home/excel/python_program/data/lab2/data/000858.csv']"
      ]
     },
     "execution_count": 52,
     "metadata": {},
     "output_type": "execute_result"
    }
   ],
   "source": [
    "csv_file_list"
   ]
  },
  {
   "cell_type": "code",
   "execution_count": 23,
   "metadata": {},
   "outputs": [],
   "source": [
    "def get_file_list(path):\n",
    "    '''\n",
    "    给出\n",
    "    '''\n",
    "    # ['600519.csv', '000858.csv']\n",
    "    path_file_short_list = os.listdir(path) \n",
    "    path_file_full_list  = []\n",
    "    for files in path_file_list:\n",
    "        path_file_full = os.path.join(path, files)\n",
    "        path_file_full_list.append(path_file_full)\n",
    "    return path_file_full_list"
   ]
  },
  {
   "cell_type": "markdown",
   "metadata": {},
   "source": [
    "#### 目前已知csv文件名就是股票代码"
   ]
  },
  {
   "cell_type": "code",
   "execution_count": 26,
   "metadata": {},
   "outputs": [],
   "source": [
    "path = get_file_list(csv_path)"
   ]
  },
  {
   "cell_type": "code",
   "execution_count": 35,
   "metadata": {},
   "outputs": [],
   "source": [
    "df_list = []\n",
    "for files in path:\n",
    "    data = pd.read_csv(files,encoding='gb18030')\n",
    "    df = pd.DataFrame(data)\n",
    "    df_list.append(df)"
   ]
  },
  {
   "cell_type": "code",
   "execution_count": 37,
   "metadata": {
    "scrolled": true
   },
   "outputs": [
    {
     "data": {
      "text/html": [
       "<div>\n",
       "<style scoped>\n",
       "    .dataframe tbody tr th:only-of-type {\n",
       "        vertical-align: middle;\n",
       "    }\n",
       "\n",
       "    .dataframe tbody tr th {\n",
       "        vertical-align: top;\n",
       "    }\n",
       "\n",
       "    .dataframe thead th {\n",
       "        text-align: right;\n",
       "    }\n",
       "</style>\n",
       "<table border=\"1\" class=\"dataframe\">\n",
       "  <thead>\n",
       "    <tr style=\"text-align: right;\">\n",
       "      <th></th>\n",
       "      <th>日期</th>\n",
       "      <th>股票代码</th>\n",
       "      <th>名称</th>\n",
       "      <th>收盘价</th>\n",
       "      <th>最高价</th>\n",
       "      <th>最低价</th>\n",
       "      <th>开盘价</th>\n",
       "      <th>前收盘</th>\n",
       "      <th>涨跌额</th>\n",
       "      <th>涨跌幅</th>\n",
       "      <th>换手率</th>\n",
       "      <th>成交量</th>\n",
       "      <th>成交金额</th>\n",
       "      <th>总市值</th>\n",
       "      <th>流通市值</th>\n",
       "    </tr>\n",
       "  </thead>\n",
       "  <tbody>\n",
       "    <tr>\n",
       "      <th>0</th>\n",
       "      <td>2020-09-21</td>\n",
       "      <td>'600519</td>\n",
       "      <td>贵州茅台</td>\n",
       "      <td>1666.80</td>\n",
       "      <td>1692.76</td>\n",
       "      <td>1666.66</td>\n",
       "      <td>1692.76</td>\n",
       "      <td>1695.00</td>\n",
       "      <td>-28.2</td>\n",
       "      <td>-1.6637</td>\n",
       "      <td>0.1787</td>\n",
       "      <td>2244407</td>\n",
       "      <td>3.756765e+09</td>\n",
       "      <td>2.093830e+12</td>\n",
       "      <td>2.093830e+12</td>\n",
       "    </tr>\n",
       "    <tr>\n",
       "      <th>1</th>\n",
       "      <td>2020-09-18</td>\n",
       "      <td>'600519</td>\n",
       "      <td>贵州茅台</td>\n",
       "      <td>1695.00</td>\n",
       "      <td>1695.00</td>\n",
       "      <td>1635.01</td>\n",
       "      <td>1665.00</td>\n",
       "      <td>1670.52</td>\n",
       "      <td>24.48</td>\n",
       "      <td>1.4654</td>\n",
       "      <td>0.3757</td>\n",
       "      <td>4720140</td>\n",
       "      <td>7.853673e+09</td>\n",
       "      <td>2.129255e+12</td>\n",
       "      <td>2.129255e+12</td>\n",
       "    </tr>\n",
       "    <tr>\n",
       "      <th>2</th>\n",
       "      <td>2020-09-17</td>\n",
       "      <td>'600519</td>\n",
       "      <td>贵州茅台</td>\n",
       "      <td>1670.52</td>\n",
       "      <td>1700.00</td>\n",
       "      <td>1658.00</td>\n",
       "      <td>1700.00</td>\n",
       "      <td>1725.10</td>\n",
       "      <td>-54.58</td>\n",
       "      <td>-3.1639</td>\n",
       "      <td>0.5069</td>\n",
       "      <td>6367985</td>\n",
       "      <td>1.068335e+10</td>\n",
       "      <td>2.098504e+12</td>\n",
       "      <td>2.098504e+12</td>\n",
       "    </tr>\n",
       "    <tr>\n",
       "      <th>3</th>\n",
       "      <td>2020-09-16</td>\n",
       "      <td>'600519</td>\n",
       "      <td>贵州茅台</td>\n",
       "      <td>1725.10</td>\n",
       "      <td>1764.81</td>\n",
       "      <td>1719.00</td>\n",
       "      <td>1760.00</td>\n",
       "      <td>1760.00</td>\n",
       "      <td>-34.9</td>\n",
       "      <td>-1.983</td>\n",
       "      <td>0.1792</td>\n",
       "      <td>2251598</td>\n",
       "      <td>3.916458e+09</td>\n",
       "      <td>2.167067e+12</td>\n",
       "      <td>2.167067e+12</td>\n",
       "    </tr>\n",
       "    <tr>\n",
       "      <th>4</th>\n",
       "      <td>2020-09-15</td>\n",
       "      <td>'600519</td>\n",
       "      <td>贵州茅台</td>\n",
       "      <td>1760.00</td>\n",
       "      <td>1769.99</td>\n",
       "      <td>1747.75</td>\n",
       "      <td>1769.99</td>\n",
       "      <td>1766.00</td>\n",
       "      <td>-6.0</td>\n",
       "      <td>-0.3398</td>\n",
       "      <td>0.1657</td>\n",
       "      <td>2082087</td>\n",
       "      <td>3.654872e+09</td>\n",
       "      <td>2.210908e+12</td>\n",
       "      <td>2.210908e+12</td>\n",
       "    </tr>\n",
       "    <tr>\n",
       "      <th>...</th>\n",
       "      <td>...</td>\n",
       "      <td>...</td>\n",
       "      <td>...</td>\n",
       "      <td>...</td>\n",
       "      <td>...</td>\n",
       "      <td>...</td>\n",
       "      <td>...</td>\n",
       "      <td>...</td>\n",
       "      <td>...</td>\n",
       "      <td>...</td>\n",
       "      <td>...</td>\n",
       "      <td>...</td>\n",
       "      <td>...</td>\n",
       "      <td>...</td>\n",
       "      <td>...</td>\n",
       "    </tr>\n",
       "    <tr>\n",
       "      <th>4624</th>\n",
       "      <td>2001-08-31</td>\n",
       "      <td>'600519</td>\n",
       "      <td>贵州茅台</td>\n",
       "      <td>37.01</td>\n",
       "      <td>37.62</td>\n",
       "      <td>36.80</td>\n",
       "      <td>37.15</td>\n",
       "      <td>37.10</td>\n",
       "      <td>-0.09</td>\n",
       "      <td>-0.2426</td>\n",
       "      <td>3.2492</td>\n",
       "      <td>2323148</td>\n",
       "      <td>8.623124e+07</td>\n",
       "      <td>9.252500e+09</td>\n",
       "      <td>2.646215e+09</td>\n",
       "    </tr>\n",
       "    <tr>\n",
       "      <th>4625</th>\n",
       "      <td>2001-08-30</td>\n",
       "      <td>'600519</td>\n",
       "      <td>贵州茅台</td>\n",
       "      <td>37.10</td>\n",
       "      <td>37.51</td>\n",
       "      <td>36.00</td>\n",
       "      <td>36.28</td>\n",
       "      <td>36.38</td>\n",
       "      <td>0.72</td>\n",
       "      <td>1.9791</td>\n",
       "      <td>6.7151</td>\n",
       "      <td>4801306</td>\n",
       "      <td>1.775586e+08</td>\n",
       "      <td>9.275000e+09</td>\n",
       "      <td>2.652650e+09</td>\n",
       "    </tr>\n",
       "    <tr>\n",
       "      <th>4626</th>\n",
       "      <td>2001-08-29</td>\n",
       "      <td>'600519</td>\n",
       "      <td>贵州茅台</td>\n",
       "      <td>36.38</td>\n",
       "      <td>37.00</td>\n",
       "      <td>36.10</td>\n",
       "      <td>36.98</td>\n",
       "      <td>36.86</td>\n",
       "      <td>-0.48</td>\n",
       "      <td>-1.3022</td>\n",
       "      <td>7.4479</td>\n",
       "      <td>5325275</td>\n",
       "      <td>1.946896e+08</td>\n",
       "      <td>9.095000e+09</td>\n",
       "      <td>2.601170e+09</td>\n",
       "    </tr>\n",
       "    <tr>\n",
       "      <th>4627</th>\n",
       "      <td>2001-08-28</td>\n",
       "      <td>'600519</td>\n",
       "      <td>贵州茅台</td>\n",
       "      <td>36.86</td>\n",
       "      <td>37.00</td>\n",
       "      <td>34.61</td>\n",
       "      <td>34.99</td>\n",
       "      <td>35.55</td>\n",
       "      <td>1.31</td>\n",
       "      <td>3.685</td>\n",
       "      <td>18.1326</td>\n",
       "      <td>12964779</td>\n",
       "      <td>4.634631e+08</td>\n",
       "      <td>9.215000e+09</td>\n",
       "      <td>2.635490e+09</td>\n",
       "    </tr>\n",
       "    <tr>\n",
       "      <th>4628</th>\n",
       "      <td>2001-08-27</td>\n",
       "      <td>'600519</td>\n",
       "      <td>贵州茅台</td>\n",
       "      <td>35.55</td>\n",
       "      <td>37.78</td>\n",
       "      <td>32.85</td>\n",
       "      <td>34.51</td>\n",
       "      <td>31.39</td>\n",
       "      <td>4.16</td>\n",
       "      <td>13.2526</td>\n",
       "      <td>56.8277</td>\n",
       "      <td>40631800</td>\n",
       "      <td>1.410347e+09</td>\n",
       "      <td>8.887500e+09</td>\n",
       "      <td>2.541825e+09</td>\n",
       "    </tr>\n",
       "  </tbody>\n",
       "</table>\n",
       "<p>4629 rows × 15 columns</p>\n",
       "</div>"
      ],
      "text/plain": [
       "              日期     股票代码    名称      收盘价      最高价      最低价      开盘价      前收盘  \\\n",
       "0     2020-09-21  '600519  贵州茅台  1666.80  1692.76  1666.66  1692.76  1695.00   \n",
       "1     2020-09-18  '600519  贵州茅台  1695.00  1695.00  1635.01  1665.00  1670.52   \n",
       "2     2020-09-17  '600519  贵州茅台  1670.52  1700.00  1658.00  1700.00  1725.10   \n",
       "3     2020-09-16  '600519  贵州茅台  1725.10  1764.81  1719.00  1760.00  1760.00   \n",
       "4     2020-09-15  '600519  贵州茅台  1760.00  1769.99  1747.75  1769.99  1766.00   \n",
       "...          ...      ...   ...      ...      ...      ...      ...      ...   \n",
       "4624  2001-08-31  '600519  贵州茅台    37.01    37.62    36.80    37.15    37.10   \n",
       "4625  2001-08-30  '600519  贵州茅台    37.10    37.51    36.00    36.28    36.38   \n",
       "4626  2001-08-29  '600519  贵州茅台    36.38    37.00    36.10    36.98    36.86   \n",
       "4627  2001-08-28  '600519  贵州茅台    36.86    37.00    34.61    34.99    35.55   \n",
       "4628  2001-08-27  '600519  贵州茅台    35.55    37.78    32.85    34.51    31.39   \n",
       "\n",
       "         涨跌额      涨跌幅      换手率       成交量          成交金额           总市值  \\\n",
       "0      -28.2  -1.6637   0.1787   2244407  3.756765e+09  2.093830e+12   \n",
       "1      24.48   1.4654   0.3757   4720140  7.853673e+09  2.129255e+12   \n",
       "2     -54.58  -3.1639   0.5069   6367985  1.068335e+10  2.098504e+12   \n",
       "3      -34.9   -1.983   0.1792   2251598  3.916458e+09  2.167067e+12   \n",
       "4       -6.0  -0.3398   0.1657   2082087  3.654872e+09  2.210908e+12   \n",
       "...      ...      ...      ...       ...           ...           ...   \n",
       "4624   -0.09  -0.2426   3.2492   2323148  8.623124e+07  9.252500e+09   \n",
       "4625    0.72   1.9791   6.7151   4801306  1.775586e+08  9.275000e+09   \n",
       "4626   -0.48  -1.3022   7.4479   5325275  1.946896e+08  9.095000e+09   \n",
       "4627    1.31    3.685  18.1326  12964779  4.634631e+08  9.215000e+09   \n",
       "4628    4.16  13.2526  56.8277  40631800  1.410347e+09  8.887500e+09   \n",
       "\n",
       "              流通市值  \n",
       "0     2.093830e+12  \n",
       "1     2.129255e+12  \n",
       "2     2.098504e+12  \n",
       "3     2.167067e+12  \n",
       "4     2.210908e+12  \n",
       "...            ...  \n",
       "4624  2.646215e+09  \n",
       "4625  2.652650e+09  \n",
       "4626  2.601170e+09  \n",
       "4627  2.635490e+09  \n",
       "4628  2.541825e+09  \n",
       "\n",
       "[4629 rows x 15 columns]"
      ]
     },
     "execution_count": 37,
     "metadata": {},
     "output_type": "execute_result"
    }
   ],
   "source": [
    "data_list[0]"
   ]
  },
  {
   "cell_type": "code",
   "execution_count": 38,
   "metadata": {},
   "outputs": [],
   "source": [
    "def get_df_list(path):\n",
    "    df_list = []\n",
    "    for files in path:\n",
    "        data = pd.read_csv(files,encoding='gb18030')\n",
    "        df = pd.DataFrame(data)\n",
    "        df_list.append(df)\n",
    "    return df_list"
   ]
  },
  {
   "cell_type": "code",
   "execution_count": 61,
   "metadata": {},
   "outputs": [],
   "source": [
    "def get_idx(lists, flag):\n",
    "    idx = 0\n",
    "    while idx<len(temp) and temp[idx]!=char:\n",
    "        idx+=1\n",
    "    return idx"
   ]
  },
  {
   "cell_type": "code",
   "execution_count": 58,
   "metadata": {},
   "outputs": [],
   "source": [
    "def get_char_last_index(strs, char):\n",
    "    temp = strs[::-1]\n",
    "    idx = 0\n",
    "    while idx<len(temp) and temp[idx]!=char:\n",
    "        idx+=1\n",
    "    return (len(temp)-1-idx)"
   ]
  },
  {
   "cell_type": "code",
   "execution_count": 60,
   "metadata": {
    "scrolled": true
   },
   "outputs": [
    {
     "data": {
      "text/plain": [
       "48"
      ]
     },
     "execution_count": 60,
     "metadata": {},
     "output_type": "execute_result"
    }
   ],
   "source": [
    "get_char_last_index(csv_file_list[0],'.')"
   ]
  },
  {
   "cell_type": "code",
   "execution_count": 126,
   "metadata": {},
   "outputs": [],
   "source": [
    "class CsvFile:\n",
    "    def __init__(self, file_path):\n",
    "        self.file_path =  file_path"
   ]
  },
  {
   "cell_type": "code",
   "execution_count": 156,
   "metadata": {},
   "outputs": [],
   "source": [
    "class Solutions:\n",
    "    '''\n",
    "        csv文件处理\n",
    "    '''\n",
    "    def __init__(self, CsvFile):\n",
    "        '''\n",
    "            初始化函数，\n",
    "            属性： CsvFile： CsvFile对象\n",
    "        '''\n",
    "        self.file_path =  CsvFile\n",
    "    \n",
    "        \n",
    "    def get_idx(self, flag, lists):\n",
    "        '''\n",
    "            @brief：返回 flag 在lists第一次出现的下标\n",
    "            @param: flag: 待寻找的元素\n",
    "                    lists:集合\n",
    "        '''\n",
    "        idx = 0\n",
    "        while idx<len(temp) and temp[idx]!=char:\n",
    "            idx+=1\n",
    "        return idx\n",
    "    \n",
    "    def get_last_index(self, flag, lists):\n",
    "        '''\n",
    "            获取 flag 在 lists 最后一次出现的下标\n",
    "            思路： 反转字符串后， 寻找第一次出现的下标\n",
    "        '''\n",
    "        temp = strs[::-1]  # 反转字符串\n",
    "        idx = get_idx(self, flag, temp)\n",
    "        return (len(temp)-1-idx)\n",
    "    \n",
    "    def get_id_name(self):\n",
    "        '''\n",
    "        \n",
    "        '''\n",
    "        begin_char = '/'\n",
    "        end_char = '.'\n",
    "        begin_index = get_last_index(self.file_path, \n",
    "                                          begin_char) + 1\n",
    "        end_index = get_last_index(self.file_path,\n",
    "                                        end_char)\n",
    "        return self.file_path[begin_index, end_index]\n",
    "    \n",
    "    \n",
    "    def get_df(self):\n",
    "        file = pd.read_csv(file_path,encoding='gb18030')\n",
    "        df = pd.DataFrame(data)\n",
    "        return df\n",
    "    \n",
    "    def get_df_head_list(self):\n",
    "        df = self.get_df()\n",
    "        head_list = df.columns.values.tolist()\n",
    "        return head_list\n",
    "    \n",
    "    def search(self, head, val, show_head_list):\n",
    "    \n",
    "        '''\n",
    "        df_head_list = self.get_df_head_list()\n",
    "        head = df_head_list[head_idx]\n",
    "        '''\n",
    "        \n",
    "        return df.loc[ (df[head] == val), \n",
    "                show_head_list]"
   ]
  },
  {
   "cell_type": "code",
   "execution_count": 157,
   "metadata": {},
   "outputs": [],
   "source": [
    "file = CsvFile(csv_file_list[0])"
   ]
  },
  {
   "cell_type": "code",
   "execution_count": 158,
   "metadata": {},
   "outputs": [],
   "source": [
    "test = Lab2(file)"
   ]
  },
  {
   "cell_type": "code",
   "execution_count": 159,
   "metadata": {},
   "outputs": [],
   "source": [
    "show_list = test.get_df_head_list()"
   ]
  },
  {
   "cell_type": "code",
   "execution_count": 160,
   "metadata": {},
   "outputs": [
    {
     "data": {
      "text/plain": [
       "['日期',\n",
       " '股票代码',\n",
       " '名称',\n",
       " '收盘价',\n",
       " '最高价',\n",
       " '最低价',\n",
       " '开盘价',\n",
       " '前收盘',\n",
       " '涨跌额',\n",
       " '涨跌幅',\n",
       " '换手率',\n",
       " '成交量',\n",
       " '成交金额',\n",
       " '总市值',\n",
       " '流通市值']"
      ]
     },
     "execution_count": 160,
     "metadata": {},
     "output_type": "execute_result"
    }
   ],
   "source": [
    "show_list"
   ]
  },
  {
   "cell_type": "code",
   "execution_count": 161,
   "metadata": {},
   "outputs": [
    {
     "data": {
      "text/html": [
       "<div>\n",
       "<style scoped>\n",
       "    .dataframe tbody tr th:only-of-type {\n",
       "        vertical-align: middle;\n",
       "    }\n",
       "\n",
       "    .dataframe tbody tr th {\n",
       "        vertical-align: top;\n",
       "    }\n",
       "\n",
       "    .dataframe thead th {\n",
       "        text-align: right;\n",
       "    }\n",
       "</style>\n",
       "<table border=\"1\" class=\"dataframe\">\n",
       "  <thead>\n",
       "    <tr style=\"text-align: right;\">\n",
       "      <th></th>\n",
       "      <th>日期</th>\n",
       "      <th>股票代码</th>\n",
       "      <th>名称</th>\n",
       "      <th>收盘价</th>\n",
       "      <th>最高价</th>\n",
       "      <th>最低价</th>\n",
       "      <th>开盘价</th>\n",
       "      <th>前收盘</th>\n",
       "      <th>涨跌额</th>\n",
       "      <th>涨跌幅</th>\n",
       "      <th>换手率</th>\n",
       "      <th>成交量</th>\n",
       "      <th>成交金额</th>\n",
       "      <th>总市值</th>\n",
       "      <th>流通市值</th>\n",
       "    </tr>\n",
       "  </thead>\n",
       "  <tbody>\n",
       "    <tr>\n",
       "      <th>2</th>\n",
       "      <td>2020-09-17</td>\n",
       "      <td>'000858</td>\n",
       "      <td>五 粮 液</td>\n",
       "      <td>222.65</td>\n",
       "      <td>226.0</td>\n",
       "      <td>218.9</td>\n",
       "      <td>222.06</td>\n",
       "      <td>226.02</td>\n",
       "      <td>-3.37</td>\n",
       "      <td>-1.491</td>\n",
       "      <td>0.6007</td>\n",
       "      <td>22801632</td>\n",
       "      <td>5.066621e+09</td>\n",
       "      <td>8.642400e+11</td>\n",
       "      <td>8.451720e+11</td>\n",
       "    </tr>\n",
       "  </tbody>\n",
       "</table>\n",
       "</div>"
      ],
      "text/plain": [
       "           日期     股票代码     名称     收盘价    最高价    最低价     开盘价     前收盘    涨跌额  \\\n",
       "2  2020-09-17  '000858  五 粮 液  222.65  226.0  218.9  222.06  226.02  -3.37   \n",
       "\n",
       "      涨跌幅     换手率       成交量          成交金额           总市值          流通市值  \n",
       "2  -1.491  0.6007  22801632  5.066621e+09  8.642400e+11  8.451720e+11  "
      ]
     },
     "execution_count": 161,
     "metadata": {},
     "output_type": "execute_result"
    }
   ],
   "source": [
    "test.search(3, 222.65, show_list)"
   ]
  },
  {
   "cell_type": "code",
   "execution_count": 162,
   "metadata": {},
   "outputs": [
    {
     "ename": "TypeError",
     "evalue": "list indices must be integers or slices, not str",
     "output_type": "error",
     "traceback": [
      "\u001b[0;31m---------------------------------------------------------------------------\u001b[0m",
      "\u001b[0;31mTypeError\u001b[0m                                 Traceback (most recent call last)",
      "\u001b[0;32m<ipython-input-162-8b5f44abcf80>\u001b[0m in \u001b[0;36m<module>\u001b[0;34m()\u001b[0m\n\u001b[0;32m----> 1\u001b[0;31m \u001b[0mtest\u001b[0m\u001b[0;34m.\u001b[0m\u001b[0msearch\u001b[0m\u001b[0;34m(\u001b[0m\u001b[0;34m'日期'\u001b[0m\u001b[0;34m,\u001b[0m \u001b[0;34m'2020-09-17'\u001b[0m\u001b[0;34m,\u001b[0m \u001b[0mshow_list\u001b[0m\u001b[0;34m)\u001b[0m\u001b[0;34m\u001b[0m\u001b[0;34m\u001b[0m\u001b[0m\n\u001b[0m",
      "\u001b[0;32m<ipython-input-125-e66af6548e1c>\u001b[0m in \u001b[0;36msearch\u001b[0;34m(self, head_idx, val, show_head_list)\u001b[0m\n\u001b[1;32m     40\u001b[0m         '''\n\u001b[1;32m     41\u001b[0m         \u001b[0mdf_head_list\u001b[0m \u001b[0;34m=\u001b[0m \u001b[0mself\u001b[0m\u001b[0;34m.\u001b[0m\u001b[0mget_df_head_list\u001b[0m\u001b[0;34m(\u001b[0m\u001b[0;34m)\u001b[0m\u001b[0;34m\u001b[0m\u001b[0;34m\u001b[0m\u001b[0m\n\u001b[0;32m---> 42\u001b[0;31m         \u001b[0mhead\u001b[0m \u001b[0;34m=\u001b[0m \u001b[0mdf_head_list\u001b[0m\u001b[0;34m[\u001b[0m\u001b[0mhead_idx\u001b[0m\u001b[0;34m]\u001b[0m\u001b[0;34m\u001b[0m\u001b[0;34m\u001b[0m\u001b[0m\n\u001b[0m\u001b[1;32m     43\u001b[0m         return df.loc[ (df[head] == val), \n\u001b[1;32m     44\u001b[0m                 show_head_list]\n",
      "\u001b[0;31mTypeError\u001b[0m: list indices must be integers or slices, not str"
     ]
    }
   ],
   "source": [
    "test.search('日期', '2020-09-17', show_list)"
   ]
  },
  {
   "cell_type": "code",
   "execution_count": 155,
   "metadata": {},
   "outputs": [
    {
     "data": {
      "text/plain": [
       "'/home/excel/python_program/data/lab2/data/600519.csv'"
      ]
     },
     "execution_count": 155,
     "metadata": {},
     "output_type": "execute_result"
    }
   ],
   "source": [
    "csv_file_list[0]"
   ]
  },
  {
   "cell_type": "markdown",
   "metadata": {},
   "source": [
    "------------------------------\n",
    "\n",
    "------------------------------"
   ]
  },
  {
   "cell_type": "code",
   "execution_count": null,
   "metadata": {},
   "outputs": [],
   "source": [
    "date = input()\n",
    "dates = pd.to_datetime(date)"
   ]
  },
  {
   "cell_type": "code",
   "execution_count": null,
   "metadata": {},
   "outputs": [],
   "source": [
    "df.loc[\n",
    "    (df[head[0]]==dates),\n",
    "     [head[0],head[1],head[2],\n",
    "      head[3],head[4],head[5],\n",
    "      head[6]\n",
    "     ]\n",
    "    ].head()"
   ]
  },
  {
   "cell_type": "markdown",
   "metadata": {},
   "source": [
    "class Solutions:\n",
    "    '''\n",
    "        csv文件处理\n",
    "    '''\n",
    "    def __init__(self, CsvFile):\n",
    "        '''\n",
    "            初始化函数，\n",
    "            属性： CsvFile： CsvFile对象\n",
    "        '''\n",
    "        self.file_path =  CsvFile\n",
    "    \n",
    "        \n",
    "    def get_idx(self, flag, lists):\n",
    "        '''\n",
    "            @brief：返回 flag 在lists第一次出现的下标\n",
    "            @param: flag: 待寻找的元素\n",
    "                    lists:集合\n",
    "        '''\n",
    "        idx = 0\n",
    "        while idx<len(temp) and temp[idx]!=char:\n",
    "            idx+=1\n",
    "        return idx\n",
    "    \n",
    "    def get_last_index(self, flag, lists):\n",
    "        '''\n",
    "            获取 flag 在 lists 最后一次出现的下标\n",
    "            思路： 反转字符串后， 寻找第一次出现的下标\n",
    "        '''\n",
    "        temp = strs[::-1]  # 反转字符串\n",
    "        idx = get_idx(self, flag, temp)\n",
    "        return (len(temp)-1-idx)\n",
    "    \n",
    "    def get_id_name(self):\n",
    "        begin_char = '/'\n",
    "        end_char = '.'\n",
    "        begin_index = get_last_index(self.file_path, \n",
    "                                          begin_char) + 1\n",
    "        end_index = get_last_index(self.file_path,\n",
    "                                        end_char)\n",
    "        return self.file_path[begin_index, end_index]\n",
    "    \n",
    "    \n",
    "    def get_df(self):\n",
    "        file = pd.read_csv(file_path,encoding='gb18030')\n",
    "        df = pd.DataFrame(data)\n",
    "        return df\n",
    "    \n",
    "    def get_df_head_list(self):\n",
    "        df = self.get_df()\n",
    "        head_list = df.columns.values.tolist()\n",
    "        return head_list\n",
    "    \n",
    "    def search(self, head_idx, val, show_head_list):\n",
    "        '''\n",
    "        i.选择一只股票，显示此股票在某个输入的日期的当日数据。\n",
    "        '''\n",
    "        df_head_list = self.get_df_head_list()\n",
    "        head = df_head_list[head_idx]\n",
    "        return df.loc[ (df[head] == val), \n",
    "                show_head_list]\n",
    "\n",
    "file = CsvFile(csv_file_list[0])\n",
    "\n",
    "test = Lab2(file)\n",
    "\n",
    "show_list = test.get_df_head_list()\n",
    "\n",
    "show_list\n",
    "\n",
    "test.search(3, 222.65, show_list)\n",
    "\n",
    "csv_file_list[0]"
   ]
  }
 ],
 "metadata": {
  "kernelspec": {
   "display_name": "Python 3",
   "language": "python",
   "name": "python3"
  },
  "language_info": {
   "codemirror_mode": {
    "name": "ipython",
    "version": 3
   },
   "file_extension": ".py",
   "mimetype": "text/x-python",
   "name": "python",
   "nbconvert_exporter": "python",
   "pygments_lexer": "ipython3",
   "version": "3.6.9"
  }
 },
 "nbformat": 4,
 "nbformat_minor": 2
}
